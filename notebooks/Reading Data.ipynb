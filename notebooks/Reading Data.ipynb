{
 "cells": [
  {
   "cell_type": "markdown",
   "id": "7ed9b3e9",
   "metadata": {},
   "source": [
    "Read data folder names (runIDs), unzip data folders, and create a directory.json file with the runIDs"
   ]
  },
  {
   "cell_type": "code",
   "execution_count": 1,
   "id": "e860f811",
   "metadata": {},
   "outputs": [
    {
     "data": {
      "text/plain": [
       "['61fea483f499ccf25faafc4d.zip',\n",
       " '61fea485f499ccf25faafc50.zip',\n",
       " '61fea4988c1e3dc95a79801c.zip',\n",
       " '621d42a187550e369891ba5d.zip',\n",
       " '621d42a2d8a14a834cbf3dd0.zip',\n",
       " '621d42a387550e369891ba64.zip',\n",
       " '621d42a3d8a14a834cbf3dd6.zip',\n",
       " '621d42a487550e369891ba6b.zip',\n",
       " '621d42a4b50991044c79acfb.zip',\n",
       " '621d42a587550e369891ba72.zip']"
      ]
     },
     "execution_count": 1,
     "metadata": {},
     "output_type": "execute_result"
    }
   ],
   "source": [
    "import os\n",
    "from zipfile import ZipFile\n",
    "import json\n",
    "\n",
    "# read all files in specified folder\n",
    "files = os.listdir('../public/data')\n",
    "files"
   ]
  },
  {
   "cell_type": "code",
   "execution_count": 3,
   "id": "32802e78",
   "metadata": {},
   "outputs": [],
   "source": [
    "# unzip all the files\n",
    "for file in files:\n",
    "    runId = file[0:file.index(\".zip\")] # slice the runId from file name\n",
    "    \n",
    "    with ZipFile(\"../public/data/{file}\".format(file=file), 'r') as fileZip:\n",
    "        fileZip.extractall(path=\"../public/data/{runId}\".format(runId=runId))\n",
    "                    \n",
    "    os.remove(\"../public/data/{file}\".format(file=file)) # remove the zip file"
   ]
  },
  {
   "cell_type": "code",
   "execution_count": 6,
   "id": "0f2f1978",
   "metadata": {},
   "outputs": [],
   "source": [
    "files = os.listdir('../public/data')\n",
    "\n",
    "# create a directory.json file\n",
    "file_json = json.dumps([{\"folder\": f} for f in files])\n",
    "\n",
    "with open(\"../public/data/directory.json\", \"w\") as fd:\n",
    "    fd.write(file_json)"
   ]
  }
 ],
 "metadata": {
  "kernelspec": {
   "display_name": "Python 3 (ipykernel)",
   "language": "python",
   "name": "python3"
  },
  "language_info": {
   "codemirror_mode": {
    "name": "ipython",
    "version": 3
   },
   "file_extension": ".py",
   "mimetype": "text/x-python",
   "name": "python",
   "nbconvert_exporter": "python",
   "pygments_lexer": "ipython3",
   "version": "3.10.9"
  }
 },
 "nbformat": 4,
 "nbformat_minor": 5
}
